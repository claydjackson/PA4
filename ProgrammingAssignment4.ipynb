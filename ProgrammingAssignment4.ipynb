{
 "cells": [
  {
   "cell_type": "markdown",
   "id": "5441ad4a",
   "metadata": {},
   "source": [
    "### PA4, Clay Jackson, Version1, CS-150 Spring 2023\n"
   ]
  },
  {
   "cell_type": "code",
   "execution_count": 1,
   "id": "9cf57c85",
   "metadata": {},
   "outputs": [
    {
     "name": "stdout",
     "output_type": "stream",
     "text": [
      "0 *\n",
      "1\n",
      "2\n",
      "3 *\n",
      "4\n",
      "5\n",
      "6 *\n",
      "7\n",
      "8\n",
      "9 *\n",
      "10\n",
      "11\n",
      "12 *\n",
      "13\n",
      "14\n",
      "15 *\n",
      "16\n",
      "17\n",
      "18 *\n",
      "19\n",
      "20\n",
      "21 *\n",
      "22\n",
      "23\n",
      "24 *\n",
      "25\n",
      "26\n",
      "27 *\n",
      "28\n",
      "29\n",
      "30 *\n",
      "31\n",
      "32\n",
      "33 *\n",
      "34\n",
      "35\n",
      "36 *\n",
      "37\n",
      "38\n",
      "39 *\n",
      "40\n",
      "41\n",
      "42 *\n",
      "43\n",
      "44\n",
      "45 *\n",
      "46\n",
      "47\n",
      "48 *\n",
      "49\n",
      "50\n",
      "51 *\n",
      "52\n",
      "53\n",
      "54 *\n",
      "55\n",
      "56\n",
      "57 *\n",
      "58\n",
      "59\n",
      "60 *\n",
      "61\n",
      "62\n",
      "63 *\n",
      "64\n",
      "65\n",
      "66 *\n",
      "67\n",
      "68\n",
      "69 *\n",
      "70\n",
      "71\n",
      "72 *\n",
      "73\n",
      "74\n",
      "75 *\n",
      "76\n",
      "77\n",
      "78 *\n",
      "79\n",
      "80\n",
      "81 *\n",
      "82\n",
      "83\n",
      "84 *\n",
      "85\n",
      "86\n",
      "87 *\n",
      "88\n",
      "89\n",
      "90 *\n",
      "91\n",
      "92\n",
      "93 *\n",
      "94\n",
      "95\n",
      "96 *\n",
      "97\n",
      "98\n",
      "99 *\n",
      "100\n"
     ]
    }
   ],
   "source": [
    "for i in range(0,101):\n",
    "    if(i%3==0):\n",
    "        print(i,'*')\n",
    "    else:\n",
    "        print(i)\n",
    "\n"
   ]
  },
  {
   "cell_type": "code",
   "execution_count": null,
   "id": "510da570",
   "metadata": {},
   "outputs": [],
   "source": []
  },
  {
   "cell_type": "code",
   "execution_count": 2,
   "id": "2ed45279",
   "metadata": {},
   "outputs": [
    {
     "name": "stdout",
     "output_type": "stream",
     "text": [
      "Enter a number between 1 and 12: 3\n",
      "March has 31 days\n"
     ]
    }
   ],
   "source": [
    "month=int(input(\"Enter a number between 1 and 12: \"))\n",
    "if(month==1):\n",
    "    print(\"January has 31 days\")\n",
    "elif(month==2):\n",
    "    print(\"February has 28 days\")\n",
    "elif(month==3):\n",
    "    print(\"March has 31 days\")\n",
    "elif(month==4):\n",
    "    print(\"April has 30 days\")\n",
    "elif(month==5):\n",
    "    print(\"May has 31 days\")\n",
    "elif(month==6):\n",
    "    print(\"June has 30 days\")\n",
    "elif(month==7):\n",
    "    print(\"July has 31 days\")\n",
    "elif(month==8):\n",
    "    print(\"August has 31 days\")\n",
    "elif(month==9):\n",
    "    print(\"September has 30 days\")\n",
    "elif(month==10):\n",
    "    print(\"October has 31 days\")\n",
    "elif(month==11):\n",
    "    print(\"November has 30 days\")\n",
    "elif(month==12):\n",
    "    print(\"December has 31 days\")\n",
    "else:\n",
    "    print(\"This number is not between 1 and 12\")"
   ]
  },
  {
   "cell_type": "code",
   "execution_count": 7,
   "id": "a4c78810",
   "metadata": {},
   "outputs": [
    {
     "name": "stdout",
     "output_type": "stream",
     "text": [
      "Please enter a number: 64\n",
      "This number is not prime\n"
     ]
    }
   ],
   "source": [
    "prime=int(input(\"Please enter a number: \"))\n",
    "if(prime>1):\n",
    "    for i in range(2,prime):\n",
    "        if((prime%i)==0):\n",
    "            print(\"This number is not prime\")\n",
    "            break\n",
    "    else:\n",
    "        print(\"This is a prime number\")\n",
    "else:\n",
    "    print(\"This is not a prime number\")\n",
    "            "
   ]
  },
  {
   "cell_type": "code",
   "execution_count": 19,
   "id": "9a60d7df",
   "metadata": {},
   "outputs": [
    {
     "name": "stdout",
     "output_type": "stream",
     "text": [
      "Enter a side of a triangle: 4\n",
      "Enter the second side: 6\n",
      "Enter the third side: 4\n",
      "This is an isosceles triangle\n"
     ]
    }
   ],
   "source": [
    "side1=int(input(\"Enter a side of a triangle: \"))\n",
    "side2=int(input(\"Enter the second side: \"))\n",
    "side3=int(input(\"Enter the third side: \"))\n",
    "\n",
    "if(side1==side2 and side1==side3):\n",
    "    print(\"This is an equilateral triangle\")\n",
    "elif(side1==side2 or side1==side3 or side2==side3):\n",
    "    print(\"This is an isosceles triangle\")\n",
    "else:\n",
    "    print(\"This is a scalene triangle\")"
   ]
  },
  {
   "cell_type": "code",
   "execution_count": 26,
   "id": "835c20df",
   "metadata": {},
   "outputs": [
    {
     "name": "stdout",
     "output_type": "stream",
     "text": [
      "17 : Minor\n",
      "51 : Adult\n",
      "22 : Adult\n",
      "66 : Senior Citizen\n",
      "9 : Minor\n",
      "95 : Senior Citizen\n",
      "35 : Adult\n",
      "42 : Adult\n"
     ]
    }
   ],
   "source": [
    "num=[17,51,22,66,9,95,35,42]\n",
    "for i in num:\n",
    "    if(i<18):\n",
    "        print( i,\": Minor\")\n",
    "    if(i>=18 and i<65):\n",
    "        print(i,\": Adult\")\n",
    "    if(i>=65):\n",
    "        print(i,\": Senior Citizen\")"
   ]
  },
  {
   "cell_type": "code",
   "execution_count": null,
   "id": "2aa7eed1",
   "metadata": {},
   "outputs": [],
   "source": []
  }
 ],
 "metadata": {
  "kernelspec": {
   "display_name": "Python 3 (ipykernel)",
   "language": "python",
   "name": "python3"
  },
  "language_info": {
   "codemirror_mode": {
    "name": "ipython",
    "version": 3
   },
   "file_extension": ".py",
   "mimetype": "text/x-python",
   "name": "python",
   "nbconvert_exporter": "python",
   "pygments_lexer": "ipython3",
   "version": "3.9.13"
  }
 },
 "nbformat": 4,
 "nbformat_minor": 5
}
